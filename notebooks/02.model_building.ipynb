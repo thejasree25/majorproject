{
 "cells": [
  {
   "cell_type": "code",
   "execution_count": 1,
   "id": "5060badd-64d8-4fd1-8870-7d8e6e140002",
   "metadata": {},
   "outputs": [],
   "source": [
    "import numpy as np\n",
    "import pandas as pd\n",
    "import matplotlib.pyplot as plt"
   ]
  },
  {
   "cell_type": "code",
   "execution_count": 4,
   "id": "bdde946c-3c49-482e-a815-c3964c406197",
   "metadata": {},
   "outputs": [],
   "source": [
    "data = pd.read_csv('../artifacts/sentiment_analysis.csv')"
   ]
  },
  {
   "cell_type": "code",
   "execution_count": 5,
   "id": "ec9323cd-46e1-4c83-869f-4eda9db1ed91",
   "metadata": {},
   "outputs": [
    {
     "data": {
      "text/html": [
       "<div>\n",
       "<style scoped>\n",
       "    .dataframe tbody tr th:only-of-type {\n",
       "        vertical-align: middle;\n",
       "    }\n",
       "\n",
       "    .dataframe tbody tr th {\n",
       "        vertical-align: top;\n",
       "    }\n",
       "\n",
       "    .dataframe thead th {\n",
       "        text-align: right;\n",
       "    }\n",
       "</style>\n",
       "<table border=\"1\" class=\"dataframe\">\n",
       "  <thead>\n",
       "    <tr style=\"text-align: right;\">\n",
       "      <th></th>\n",
       "      <th>id</th>\n",
       "      <th>label</th>\n",
       "      <th>tweet</th>\n",
       "    </tr>\n",
       "  </thead>\n",
       "  <tbody>\n",
       "    <tr>\n",
       "      <th>0</th>\n",
       "      <td>1</td>\n",
       "      <td>0</td>\n",
       "      <td>#fingerprint #Pregnancy Test https://goo.gl/h1...</td>\n",
       "    </tr>\n",
       "    <tr>\n",
       "      <th>1</th>\n",
       "      <td>2</td>\n",
       "      <td>0</td>\n",
       "      <td>Finally a transparant silicon case ^^ Thanks t...</td>\n",
       "    </tr>\n",
       "    <tr>\n",
       "      <th>2</th>\n",
       "      <td>3</td>\n",
       "      <td>0</td>\n",
       "      <td>We love this! Would you go? #talk #makememorie...</td>\n",
       "    </tr>\n",
       "    <tr>\n",
       "      <th>3</th>\n",
       "      <td>4</td>\n",
       "      <td>0</td>\n",
       "      <td>I'm wired I know I'm George I was made that wa...</td>\n",
       "    </tr>\n",
       "    <tr>\n",
       "      <th>4</th>\n",
       "      <td>5</td>\n",
       "      <td>1</td>\n",
       "      <td>What amazing service! Apple won't even talk to...</td>\n",
       "    </tr>\n",
       "  </tbody>\n",
       "</table>\n",
       "</div>"
      ],
      "text/plain": [
       "   id  label                                              tweet\n",
       "0   1      0  #fingerprint #Pregnancy Test https://goo.gl/h1...\n",
       "1   2      0  Finally a transparant silicon case ^^ Thanks t...\n",
       "2   3      0  We love this! Would you go? #talk #makememorie...\n",
       "3   4      0  I'm wired I know I'm George I was made that wa...\n",
       "4   5      1  What amazing service! Apple won't even talk to..."
      ]
     },
     "execution_count": 5,
     "metadata": {},
     "output_type": "execute_result"
    }
   ],
   "source": [
    "data.head()"
   ]
  },
  {
   "cell_type": "markdown",
   "id": "0e3b678a-d569-43ef-9e64-6372c330adeb",
   "metadata": {},
   "source": [
    "## Data Preprocessing "
   ]
  },
  {
   "cell_type": "code",
   "execution_count": 6,
   "id": "cb69f05f-7c2e-4d6d-a1c5-10e5f3facffe",
   "metadata": {},
   "outputs": [
    {
     "data": {
      "text/plain": [
       "(7920, 3)"
      ]
     },
     "execution_count": 6,
     "metadata": {},
     "output_type": "execute_result"
    }
   ],
   "source": [
    "data.shape"
   ]
  },
  {
   "cell_type": "code",
   "execution_count": 7,
   "id": "c35be25a-5df3-49e0-8d1f-ca116705a0b3",
   "metadata": {},
   "outputs": [
    {
     "data": {
      "text/plain": [
       "np.int64(0)"
      ]
     },
     "execution_count": 7,
     "metadata": {},
     "output_type": "execute_result"
    }
   ],
   "source": [
    "data.duplicated().sum()"
   ]
  },
  {
   "cell_type": "code",
   "execution_count": 8,
   "id": "32a2311c-ff0a-4cf2-90dc-d4f2b45f0290",
   "metadata": {},
   "outputs": [
    {
     "data": {
      "text/plain": [
       "id       0\n",
       "label    0\n",
       "tweet    0\n",
       "dtype: int64"
      ]
     },
     "execution_count": 8,
     "metadata": {},
     "output_type": "execute_result"
    }
   ],
   "source": [
    "data.isnull().sum()"
   ]
  },
  {
   "cell_type": "markdown",
   "id": "75109de7-759d-46f3-bb15-85fe1e956a4f",
   "metadata": {},
   "source": [
    "## Text Preprocessing "
   ]
  },
  {
   "cell_type": "code",
   "execution_count": 9,
   "id": "1e335c0d-6659-402e-a5c0-109fb6975405",
   "metadata": {},
   "outputs": [],
   "source": [
    "import re\n",
    "import string"
   ]
  },
  {
   "cell_type": "markdown",
   "id": "c2cec005-8bd9-419e-b4a2-2a840d8bc421",
   "metadata": {},
   "source": [
    "CONVERT UPPER CASE TO LOWER CASE"
   ]
  },
  {
   "cell_type": "code",
   "execution_count": 10,
   "id": "e1155d5a-0660-4619-b4bb-f42397af64f3",
   "metadata": {},
   "outputs": [],
   "source": [
    "data[\"tweet\"] = data[\"tweet\"].apply(lambda x: \" \".join(x.lower() for x in x.split()))"
   ]
  },
  {
   "cell_type": "code",
   "execution_count": 11,
   "id": "37006c75-519f-43d5-852b-880b3383acd0",
   "metadata": {},
   "outputs": [
    {
     "data": {
      "text/plain": [
       "0    #fingerprint #pregnancy test https://goo.gl/h1...\n",
       "1    finally a transparant silicon case ^^ thanks t...\n",
       "2    we love this! would you go? #talk #makememorie...\n",
       "3    i'm wired i know i'm george i was made that wa...\n",
       "4    what amazing service! apple won't even talk to...\n",
       "Name: tweet, dtype: object"
      ]
     },
     "execution_count": 11,
     "metadata": {},
     "output_type": "execute_result"
    }
   ],
   "source": [
    "data[\"tweet\"].head(5)"
   ]
  },
  {
   "cell_type": "markdown",
   "id": "de665f48-f3de-4cd6-9040-fdfbb6b9acd6",
   "metadata": {},
   "source": [
    "REMOVE LINKS"
   ]
  },
  {
   "cell_type": "code",
   "execution_count": 12,
   "id": "104db169-ba92-4e87-9934-c9a9df79c1c9",
   "metadata": {},
   "outputs": [],
   "source": [
    "data[\"tweet\"] = data[\"tweet\"].apply(lambda x: \" \".join(re.sub(r'^https?:\\/\\/.*[\\r\\n]*', '',x, flags= re.MULTILINE)  for x in x.split() ) )"
   ]
  },
  {
   "cell_type": "code",
   "execution_count": 15,
   "id": "ba864514-0f5b-4959-99a2-516661ec9466",
   "metadata": {},
   "outputs": [
    {
     "data": {
      "text/plain": [
       "0    #fingerprint #pregnancy test  #android #apps #...\n",
       "1    finally a transparant silicon case ^^ thanks t...\n",
       "2    we love this! would you go? #talk #makememorie...\n",
       "3    i'm wired i know i'm george i was made that wa...\n",
       "4    what amazing service! apple won't even talk to...\n",
       "Name: tweet, dtype: object"
      ]
     },
     "execution_count": 15,
     "metadata": {},
     "output_type": "execute_result"
    }
   ],
   "source": [
    "data[\"tweet\"].head(5)"
   ]
  },
  {
   "cell_type": "markdown",
   "id": "f8e39e65-b1e6-4624-8540-96fe84367a1a",
   "metadata": {},
   "source": [
    "Remove punctuations"
   ]
  },
  {
   "cell_type": "code",
   "execution_count": 13,
   "id": "4860277e-5a5e-4af8-9bd3-1ed1786f7231",
   "metadata": {},
   "outputs": [
    {
     "name": "stdout",
     "output_type": "stream",
     "text": [
      "!\"#$%&'()*+,-./:;<=>?@[\\]^_`{|}~\n"
     ]
    }
   ],
   "source": [
    "print(string.punctuation)"
   ]
  },
  {
   "cell_type": "code",
   "execution_count": 14,
   "id": "a748ab91-6d40-40c6-82af-cf6c00b0570e",
   "metadata": {},
   "outputs": [],
   "source": [
    "def remove_punctuations(text):\n",
    "    for punctuation in string.punctuation:\n",
    "        text = text.replace(punctuation, '')\n",
    "    return text\n",
    "\n",
    "data[\"tweet\"] = data[\"tweet\"].apply(remove_punctuations)"
   ]
  },
  {
   "cell_type": "code",
   "execution_count": 12,
   "id": "8dc729b4-9682-4a5a-9a59-4f4b76635d42",
   "metadata": {},
   "outputs": [
    {
     "data": {
      "text/plain": [
       "0    fingerprint pregnancy test  android apps beaut...\n",
       "1    finally a transparant silicon case  thanks to ...\n",
       "2    we love this would you go talk makememories un...\n",
       "3    im wired i know im george i was made that way ...\n",
       "4    what amazing service apple wont even talk to m...\n",
       "Name: tweet, dtype: object"
      ]
     },
     "execution_count": 12,
     "metadata": {},
     "output_type": "execute_result"
    }
   ],
   "source": [
    "data[\"tweet\"].head(5)"
   ]
  },
  {
   "cell_type": "code",
   "execution_count": 15,
   "id": "ec46d61c-1103-45c8-ba31-31df5135a6c3",
   "metadata": {},
   "outputs": [],
   "source": [
    "data[\"tweet\"] = data['tweet'].str.replace(r'\\d+', '', regex=True)"
   ]
  },
  {
   "cell_type": "code",
   "execution_count": 16,
   "id": "5da36d8d-cf64-4e30-9902-ad69388e7184",
   "metadata": {},
   "outputs": [
    {
     "data": {
      "text/plain": [
       "7910    perfect match instagood applewatch red instagr...\n",
       "7911    i am completely in love with the new iphone em...\n",
       "7912    tune in turn on drop out  gtd in one app  mobi...\n",
       "7913    ok so my galaxy crashed after one day now i ha...\n",
       "7914    gain followers rt this must follow me i follow...\n",
       "7915    live out loud lol liveoutloud selfie smile son...\n",
       "7916    we would like to wish you an amazing day make ...\n",
       "7917    helping my lovely  year old neighbor with her ...\n",
       "7918    finally got my smart pocket wifi stay connecte...\n",
       "7919    apple barcelona apple store bcn barcelona trav...\n",
       "Name: tweet, dtype: object"
      ]
     },
     "execution_count": 16,
     "metadata": {},
     "output_type": "execute_result"
    }
   ],
   "source": [
    "data[\"tweet\"].tail(10)"
   ]
  },
  {
   "cell_type": "markdown",
   "id": "8456e0af-7720-479f-b634-64de226b0ef6",
   "metadata": {},
   "source": [
    "Remove Stopwords"
   ]
  },
  {
   "cell_type": "code",
   "execution_count": 17,
   "id": "b9726839-a951-4a8a-b8cc-241be8037e7e",
   "metadata": {},
   "outputs": [
    {
     "name": "stdout",
     "output_type": "stream",
     "text": [
      "Requirement already satisfied: nltk in d:\\mern_course\\testproject\\sentiment-analysis-project\\env\\lib\\site-packages (3.9.1)\n",
      "Requirement already satisfied: click in d:\\mern_course\\testproject\\sentiment-analysis-project\\env\\lib\\site-packages (from nltk) (8.2.1)\n",
      "Requirement already satisfied: joblib in d:\\mern_course\\testproject\\sentiment-analysis-project\\env\\lib\\site-packages (from nltk) (1.5.2)\n",
      "Requirement already satisfied: regex>=2021.8.3 in d:\\mern_course\\testproject\\sentiment-analysis-project\\env\\lib\\site-packages (from nltk) (2025.9.1)\n",
      "Requirement already satisfied: tqdm in d:\\mern_course\\testproject\\sentiment-analysis-project\\env\\lib\\site-packages (from nltk) (4.67.1)\n",
      "Requirement already satisfied: colorama in d:\\mern_course\\testproject\\sentiment-analysis-project\\env\\lib\\site-packages (from click->nltk) (0.4.6)\n"
     ]
    },
    {
     "name": "stderr",
     "output_type": "stream",
     "text": [
      "\n",
      "[notice] A new release of pip is available: 23.2.1 -> 25.2\n",
      "[notice] To update, run: python.exe -m pip install --upgrade pip\n"
     ]
    }
   ],
   "source": [
    "!pip install nltk"
   ]
  },
  {
   "cell_type": "code",
   "execution_count": 18,
   "id": "f10a93c6-4a64-4286-90e8-be8e9c11c2f5",
   "metadata": {},
   "outputs": [],
   "source": [
    "\n",
    "import nltk"
   ]
  },
  {
   "cell_type": "code",
   "execution_count": 19,
   "id": "34e76f27-5dcf-4123-bca4-46928ff50531",
   "metadata": {},
   "outputs": [
    {
     "name": "stderr",
     "output_type": "stream",
     "text": [
      "[nltk_data] Downloading package stopwords to ../static/model...\n",
      "[nltk_data]   Package stopwords is already up-to-date!\n"
     ]
    },
    {
     "data": {
      "text/plain": [
       "True"
      ]
     },
     "execution_count": 19,
     "metadata": {},
     "output_type": "execute_result"
    }
   ],
   "source": [
    "nltk.download('stopwords', download_dir='../static/model')"
   ]
  },
  {
   "cell_type": "code",
   "execution_count": 20,
   "id": "41edd64d-315e-485b-80b6-a9c8d96528c1",
   "metadata": {},
   "outputs": [],
   "source": [
    "with open('../static/model/corpora/stopwords/english', 'r') as file:\n",
    "    sw = file.read().splitlines()"
   ]
  },
  {
   "cell_type": "code",
   "execution_count": 18,
   "id": "6a38d6d9-aabf-49f8-8466-ca082e5d69da",
   "metadata": {},
   "outputs": [
    {
     "data": {
      "text/plain": [
       "['a',\n",
       " 'about',\n",
       " 'above',\n",
       " 'after',\n",
       " 'again',\n",
       " 'against',\n",
       " 'ain',\n",
       " 'all',\n",
       " 'am',\n",
       " 'an',\n",
       " 'and',\n",
       " 'any',\n",
       " 'are',\n",
       " 'aren',\n",
       " \"aren't\",\n",
       " 'as',\n",
       " 'at',\n",
       " 'be',\n",
       " 'because',\n",
       " 'been',\n",
       " 'before',\n",
       " 'being',\n",
       " 'below',\n",
       " 'between',\n",
       " 'both',\n",
       " 'but',\n",
       " 'by',\n",
       " 'can',\n",
       " 'couldn',\n",
       " \"couldn't\",\n",
       " 'd',\n",
       " 'did',\n",
       " 'didn',\n",
       " \"didn't\",\n",
       " 'do',\n",
       " 'does',\n",
       " 'doesn',\n",
       " \"doesn't\",\n",
       " 'doing',\n",
       " 'don',\n",
       " \"don't\",\n",
       " 'down',\n",
       " 'during',\n",
       " 'each',\n",
       " 'few',\n",
       " 'for',\n",
       " 'from',\n",
       " 'further',\n",
       " 'had',\n",
       " 'hadn',\n",
       " \"hadn't\",\n",
       " 'has',\n",
       " 'hasn',\n",
       " \"hasn't\",\n",
       " 'have',\n",
       " 'haven',\n",
       " \"haven't\",\n",
       " 'having',\n",
       " 'he',\n",
       " \"he'd\",\n",
       " \"he'll\",\n",
       " 'her',\n",
       " 'here',\n",
       " 'hers',\n",
       " 'herself',\n",
       " \"he's\",\n",
       " 'him',\n",
       " 'himself',\n",
       " 'his',\n",
       " 'how',\n",
       " 'i',\n",
       " \"i'd\",\n",
       " 'if',\n",
       " \"i'll\",\n",
       " \"i'm\",\n",
       " 'in',\n",
       " 'into',\n",
       " 'is',\n",
       " 'isn',\n",
       " \"isn't\",\n",
       " 'it',\n",
       " \"it'd\",\n",
       " \"it'll\",\n",
       " \"it's\",\n",
       " 'its',\n",
       " 'itself',\n",
       " \"i've\",\n",
       " 'just',\n",
       " 'll',\n",
       " 'm',\n",
       " 'ma',\n",
       " 'me',\n",
       " 'mightn',\n",
       " \"mightn't\",\n",
       " 'more',\n",
       " 'most',\n",
       " 'mustn',\n",
       " \"mustn't\",\n",
       " 'my',\n",
       " 'myself',\n",
       " 'needn',\n",
       " \"needn't\",\n",
       " 'no',\n",
       " 'nor',\n",
       " 'not',\n",
       " 'now',\n",
       " 'o',\n",
       " 'of',\n",
       " 'off',\n",
       " 'on',\n",
       " 'once',\n",
       " 'only',\n",
       " 'or',\n",
       " 'other',\n",
       " 'our',\n",
       " 'ours',\n",
       " 'ourselves',\n",
       " 'out',\n",
       " 'over',\n",
       " 'own',\n",
       " 're',\n",
       " 's',\n",
       " 'same',\n",
       " 'shan',\n",
       " \"shan't\",\n",
       " 'she',\n",
       " \"she'd\",\n",
       " \"she'll\",\n",
       " \"she's\",\n",
       " 'should',\n",
       " 'shouldn',\n",
       " \"shouldn't\",\n",
       " \"should've\",\n",
       " 'so',\n",
       " 'some',\n",
       " 'such',\n",
       " 't',\n",
       " 'than',\n",
       " 'that',\n",
       " \"that'll\",\n",
       " 'the',\n",
       " 'their',\n",
       " 'theirs',\n",
       " 'them',\n",
       " 'themselves',\n",
       " 'then',\n",
       " 'there',\n",
       " 'these',\n",
       " 'they',\n",
       " \"they'd\",\n",
       " \"they'll\",\n",
       " \"they're\",\n",
       " \"they've\",\n",
       " 'this',\n",
       " 'those',\n",
       " 'through',\n",
       " 'to',\n",
       " 'too',\n",
       " 'under',\n",
       " 'until',\n",
       " 'up',\n",
       " 've',\n",
       " 'very',\n",
       " 'was',\n",
       " 'wasn',\n",
       " \"wasn't\",\n",
       " 'we',\n",
       " \"we'd\",\n",
       " \"we'll\",\n",
       " \"we're\",\n",
       " 'were',\n",
       " 'weren',\n",
       " \"weren't\",\n",
       " \"we've\",\n",
       " 'what',\n",
       " 'when',\n",
       " 'where',\n",
       " 'which',\n",
       " 'while',\n",
       " 'who',\n",
       " 'whom',\n",
       " 'why',\n",
       " 'will',\n",
       " 'with',\n",
       " 'won',\n",
       " \"won't\",\n",
       " 'wouldn',\n",
       " \"wouldn't\",\n",
       " 'y',\n",
       " 'you',\n",
       " \"you'd\",\n",
       " \"you'll\",\n",
       " 'your',\n",
       " \"you're\",\n",
       " 'yours',\n",
       " 'yourself',\n",
       " 'yourselves',\n",
       " \"you've\"]"
      ]
     },
     "execution_count": 18,
     "metadata": {},
     "output_type": "execute_result"
    }
   ],
   "source": [
    "sw"
   ]
  },
  {
   "cell_type": "code",
   "execution_count": 19,
   "id": "dbeabebf-c4e2-4423-957b-192f491213b9",
   "metadata": {},
   "outputs": [],
   "source": [
    "data[\"tweet\"] = data[\"tweet\"].apply(lambda x: \" \".join(x for x in x.split() if x not in sw))"
   ]
  },
  {
   "cell_type": "code",
   "execution_count": 20,
   "id": "8acf4103-79ab-46ed-b4dc-0c168bfc7f49",
   "metadata": {},
   "outputs": [
    {
     "data": {
      "text/plain": [
       "0    fingerprint pregnancy test android apps beauti...\n",
       "1    finally transparant silicon case thanks uncle ...\n",
       "2    love would go talk makememories unplug relax i...\n",
       "3    im wired know im george made way iphone cute d...\n",
       "4    amazing service apple wont even talk question ...\n",
       "Name: tweet, dtype: object"
      ]
     },
     "execution_count": 20,
     "metadata": {},
     "output_type": "execute_result"
    }
   ],
   "source": [
    "\n",
    "data[\"tweet\"].head()"
   ]
  },
  {
   "cell_type": "markdown",
   "id": "e5ab8bae-febd-4674-9b5c-1a81c28a8bc9",
   "metadata": {},
   "source": [
    "\n",
    "Stemming"
   ]
  },
  {
   "cell_type": "code",
   "execution_count": 21,
   "id": "fb1b26be-70ce-41d1-b01f-30917fe0f361",
   "metadata": {},
   "outputs": [],
   "source": [
    "\n",
    "from nltk.stem import PorterStemmer\n",
    "ps = PorterStemmer()"
   ]
  },
  {
   "cell_type": "code",
   "execution_count": 22,
   "id": "19632741-3973-4294-afa9-3f1ea63ff483",
   "metadata": {},
   "outputs": [],
   "source": [
    "data[\"tweet\"] = data[\"tweet\"].apply(lambda x: \" \".join(ps.stem(x) for x in x.split()))"
   ]
  },
  {
   "cell_type": "code",
   "execution_count": 23,
   "id": "06bcb8d5-de06-403a-8930-f997c4fcd53e",
   "metadata": {},
   "outputs": [
    {
     "data": {
      "text/plain": [
       "0    fingerprint pregnanc test android app beauti c...\n",
       "1    final transpar silicon case thank uncl yay son...\n",
       "2    love would go talk makememori unplug relax iph...\n",
       "3    im wire know im georg made way iphon cute dave...\n",
       "4    amaz servic appl wont even talk question unles...\n",
       "Name: tweet, dtype: object"
      ]
     },
     "execution_count": 23,
     "metadata": {},
     "output_type": "execute_result"
    }
   ],
   "source": [
    "data[\"tweet\"].head()"
   ]
  },
  {
   "cell_type": "code",
   "execution_count": 32,
   "id": "868c84aa-23f6-4a28-9b3d-70895fb7a3c7",
   "metadata": {},
   "outputs": [
    {
     "data": {
      "text/html": [
       "<div>\n",
       "<style scoped>\n",
       "    .dataframe tbody tr th:only-of-type {\n",
       "        vertical-align: middle;\n",
       "    }\n",
       "\n",
       "    .dataframe tbody tr th {\n",
       "        vertical-align: top;\n",
       "    }\n",
       "\n",
       "    .dataframe thead th {\n",
       "        text-align: right;\n",
       "    }\n",
       "</style>\n",
       "<table border=\"1\" class=\"dataframe\">\n",
       "  <thead>\n",
       "    <tr style=\"text-align: right;\">\n",
       "      <th></th>\n",
       "      <th>id</th>\n",
       "      <th>label</th>\n",
       "      <th>tweet</th>\n",
       "    </tr>\n",
       "  </thead>\n",
       "  <tbody>\n",
       "    <tr>\n",
       "      <th>0</th>\n",
       "      <td>1</td>\n",
       "      <td>0</td>\n",
       "      <td>fingerprint pregnanc test android app beauti c...</td>\n",
       "    </tr>\n",
       "    <tr>\n",
       "      <th>1</th>\n",
       "      <td>2</td>\n",
       "      <td>0</td>\n",
       "      <td>final transpar silicon case thank uncl yay son...</td>\n",
       "    </tr>\n",
       "    <tr>\n",
       "      <th>2</th>\n",
       "      <td>3</td>\n",
       "      <td>0</td>\n",
       "      <td>love would go talk makememori unplug relax iph...</td>\n",
       "    </tr>\n",
       "    <tr>\n",
       "      <th>3</th>\n",
       "      <td>4</td>\n",
       "      <td>0</td>\n",
       "      <td>im wire know im georg made way iphon cute dave...</td>\n",
       "    </tr>\n",
       "    <tr>\n",
       "      <th>4</th>\n",
       "      <td>5</td>\n",
       "      <td>1</td>\n",
       "      <td>amaz servic appl wont even talk question unles...</td>\n",
       "    </tr>\n",
       "    <tr>\n",
       "      <th>...</th>\n",
       "      <td>...</td>\n",
       "      <td>...</td>\n",
       "      <td>...</td>\n",
       "    </tr>\n",
       "    <tr>\n",
       "      <th>7915</th>\n",
       "      <td>7916</td>\n",
       "      <td>0</td>\n",
       "      <td>live loud lol liveoutloud selfi smile soni mus...</td>\n",
       "    </tr>\n",
       "    <tr>\n",
       "      <th>7916</th>\n",
       "      <td>7917</td>\n",
       "      <td>0</td>\n",
       "      <td>would like wish amaz day make everi minut coun...</td>\n",
       "    </tr>\n",
       "    <tr>\n",
       "      <th>7917</th>\n",
       "      <td>7918</td>\n",
       "      <td>0</td>\n",
       "      <td>help love year old neighbor ipad morn made rea...</td>\n",
       "    </tr>\n",
       "    <tr>\n",
       "      <th>7918</th>\n",
       "      <td>7919</td>\n",
       "      <td>0</td>\n",
       "      <td>final got smart pocket wifi stay connect anyti...</td>\n",
       "    </tr>\n",
       "    <tr>\n",
       "      <th>7919</th>\n",
       "      <td>7920</td>\n",
       "      <td>0</td>\n",
       "      <td>appl barcelona appl store bcn barcelona travel...</td>\n",
       "    </tr>\n",
       "  </tbody>\n",
       "</table>\n",
       "<p>7920 rows × 3 columns</p>\n",
       "</div>"
      ],
      "text/plain": [
       "        id  label                                              tweet\n",
       "0        1      0  fingerprint pregnanc test android app beauti c...\n",
       "1        2      0  final transpar silicon case thank uncl yay son...\n",
       "2        3      0  love would go talk makememori unplug relax iph...\n",
       "3        4      0  im wire know im georg made way iphon cute dave...\n",
       "4        5      1  amaz servic appl wont even talk question unles...\n",
       "...    ...    ...                                                ...\n",
       "7915  7916      0  live loud lol liveoutloud selfi smile soni mus...\n",
       "7916  7917      0  would like wish amaz day make everi minut coun...\n",
       "7917  7918      0  help love year old neighbor ipad morn made rea...\n",
       "7918  7919      0  final got smart pocket wifi stay connect anyti...\n",
       "7919  7920      0  appl barcelona appl store bcn barcelona travel...\n",
       "\n",
       "[7920 rows x 3 columns]"
      ]
     },
     "execution_count": 32,
     "metadata": {},
     "output_type": "execute_result"
    }
   ],
   "source": [
    "data"
   ]
  },
  {
   "cell_type": "markdown",
   "id": "190e33d5-7255-4968-a2e1-0f13e9c2770f",
   "metadata": {},
   "source": [
    "## Building Vacabulary"
   ]
  },
  {
   "cell_type": "code",
   "execution_count": 23,
   "id": "b9994a4e-3ff9-4ff1-ae29-cfb14d6cb6a2",
   "metadata": {},
   "outputs": [],
   "source": [
    "from collections import Counter\n",
    "vocab = Counter()"
   ]
  },
  {
   "cell_type": "code",
   "execution_count": 24,
   "id": "5632f9a9-e6c7-4bed-b2e7-f0c25caa9af7",
   "metadata": {},
   "outputs": [
    {
     "data": {
      "text/plain": [
       "Counter()"
      ]
     },
     "execution_count": 24,
     "metadata": {},
     "output_type": "execute_result"
    }
   ],
   "source": [
    "vocab"
   ]
  },
  {
   "cell_type": "code",
   "execution_count": 25,
   "id": "cbf20714-18f9-4443-831a-9c72c41464ad",
   "metadata": {},
   "outputs": [],
   "source": [
    "for sentence in data['tweet']:\n",
    "    vocab.update(sentence.split())"
   ]
  },
  {
   "cell_type": "code",
   "execution_count": 26,
   "id": "9f50fb4d-0226-4385-8ed5-a78570b7a8f4",
   "metadata": {},
   "outputs": [
    {
     "data": {
      "text/plain": [
       "18272"
      ]
     },
     "execution_count": 26,
     "metadata": {},
     "output_type": "execute_result"
    }
   ],
   "source": [
    "len(vocab)"
   ]
  },
  {
   "cell_type": "code",
   "execution_count": 37,
   "id": "ceb0e766-91c4-4224-9827-92c8e327193e",
   "metadata": {},
   "outputs": [
    {
     "data": {
      "text/plain": [
       "(7920, 3)"
      ]
     },
     "execution_count": 37,
     "metadata": {},
     "output_type": "execute_result"
    }
   ],
   "source": [
    "data.shape"
   ]
  },
  {
   "cell_type": "code",
   "execution_count": 27,
   "id": "416de9d7-7a3a-4afe-bb99-71eb3017a689",
   "metadata": {},
   "outputs": [],
   "source": [
    "tokens = [key for key in vocab if vocab[key] > 10]"
   ]
  },
  {
   "cell_type": "code",
   "execution_count": 28,
   "id": "74414109-6193-4cd5-8768-8c4169f00e97",
   "metadata": {},
   "outputs": [
    {
     "data": {
      "text/plain": [
       "['android',\n",
       " 'apps',\n",
       " 'beautiful',\n",
       " 'cute',\n",
       " 'health',\n",
       " 'igers',\n",
       " 'iphoneonly',\n",
       " 'iphonesia',\n",
       " 'iphone',\n",
       " 'finally',\n",
       " 'a',\n",
       " 'case',\n",
       " 'thanks',\n",
       " 'to',\n",
       " 'my',\n",
       " 'yay',\n",
       " 'sony',\n",
       " 'xperia',\n",
       " 's',\n",
       " 'we',\n",
       " 'love',\n",
       " 'this',\n",
       " 'would',\n",
       " 'you',\n",
       " 'go',\n",
       " 'talk',\n",
       " 'relax',\n",
       " 'smartphone',\n",
       " 'wifi',\n",
       " 'connect',\n",
       " 'im',\n",
       " 'i',\n",
       " 'know',\n",
       " 'was',\n",
       " 'made',\n",
       " 'that',\n",
       " 'way',\n",
       " 'home',\n",
       " 'what',\n",
       " 'amazing',\n",
       " 'service',\n",
       " 'apple',\n",
       " 'wont',\n",
       " 'even',\n",
       " 'me',\n",
       " 'about',\n",
       " 'have',\n",
       " 'pay',\n",
       " 'them',\n",
       " 'for',\n",
       " 'their',\n",
       " 'stupid',\n",
       " 'support',\n",
       " 'software',\n",
       " 'update',\n",
       " 'fucked',\n",
       " 'up',\n",
       " 'phone',\n",
       " 'big',\n",
       " 'time',\n",
       " 'iphones',\n",
       " 'happy',\n",
       " 'us',\n",
       " 'instapic',\n",
       " 'instadaily',\n",
       " 'xperiaz',\n",
       " 'new',\n",
       " 'type',\n",
       " 'c',\n",
       " 'charger',\n",
       " 'cable',\n",
       " 'uk',\n",
       " '…',\n",
       " 'amazon',\n",
       " 'year',\n",
       " 'newyear',\n",
       " 'starting',\n",
       " 'technology',\n",
       " 'samsunggalaxys',\n",
       " 'iphonex',\n",
       " 'shopping',\n",
       " 'again',\n",
       " 'listening',\n",
       " 'music',\n",
       " 'likeforlike',\n",
       " 'photo',\n",
       " 'fun',\n",
       " 'selfie',\n",
       " 'water',\n",
       " 'camera',\n",
       " 'picoftheday',\n",
       " 'sun',\n",
       " 'instagood',\n",
       " 'boy',\n",
       " 'hey',\n",
       " 'when',\n",
       " 'make',\n",
       " 'ipod',\n",
       " 'dont',\n",
       " 'it',\n",
       " 'color',\n",
       " 'or',\n",
       " 'not',\n",
       " 'crash',\n",
       " 'every',\n",
       " 'but',\n",
       " 'does',\n",
       " 'need',\n",
       " 'really',\n",
       " 'dropped',\n",
       " 'the',\n",
       " 'with',\n",
       " 'design',\n",
       " 'giving',\n",
       " 'in',\n",
       " 'because',\n",
       " 'has',\n",
       " 'no',\n",
       " 'just',\n",
       " 'another',\n",
       " 'crazy',\n",
       " 'purchase',\n",
       " 'lol',\n",
       " 'is',\n",
       " 'work',\n",
       " 'hard',\n",
       " 'play',\n",
       " 'ipad',\n",
       " 'battery',\n",
       " 'so',\n",
       " 'charge',\n",
       " 'and',\n",
       " 'by',\n",
       " 'dead',\n",
       " 'from',\n",
       " 'saturday',\n",
       " 'summer',\n",
       " 'like',\n",
       " 'share',\n",
       " 'if',\n",
       " 'want',\n",
       " 'd',\n",
       " 'instagram',\n",
       " 'photooftheday',\n",
       " 'tweegram',\n",
       " 'reason',\n",
       " 'one',\n",
       " 'suck',\n",
       " 'truth',\n",
       " 'agree',\n",
       " 'fact',\n",
       " 'how',\n",
       " 'store',\n",
       " 'be',\n",
       " 'out',\n",
       " 'of',\n",
       " 'its',\n",
       " 'monday',\n",
       " 'ur',\n",
       " 'fucking',\n",
       " 'art',\n",
       " 'easter',\n",
       " 'dear',\n",
       " 'friends',\n",
       " 'on',\n",
       " 'face',\n",
       " 'email',\n",
       " 'as',\n",
       " 'there',\n",
       " 'pie',\n",
       " 'wife',\n",
       " 'an',\n",
       " 'ive',\n",
       " 'had',\n",
       " 'days',\n",
       " 'button',\n",
       " 'back',\n",
       " 'broke',\n",
       " 'once',\n",
       " 'your',\n",
       " 'screen',\n",
       " 'goes',\n",
       " 'completely',\n",
       " 'black',\n",
       " 'keep',\n",
       " 'getting',\n",
       " 'texts',\n",
       " 'all',\n",
       " 'day',\n",
       " 'cant',\n",
       " 'check',\n",
       " 'wall',\n",
       " 'galaxy',\n",
       " 'samsung',\n",
       " 'app',\n",
       " 'where',\n",
       " 'patent',\n",
       " 'are',\n",
       " 'now',\n",
       " 'havent',\n",
       " 'done',\n",
       " 'nothing',\n",
       " 'touch',\n",
       " 'lose',\n",
       " 'pics',\n",
       " 'will',\n",
       " 'someone',\n",
       " 'hateapple',\n",
       " 'do',\n",
       " 'flower',\n",
       " 'green',\n",
       " 'must',\n",
       " 'watch',\n",
       " 'youtube',\n",
       " 'subscribe',\n",
       " 'daily',\n",
       " 'twitch',\n",
       " 'gaming',\n",
       " 'ps',\n",
       " 'xbox',\n",
       " 'games',\n",
       " 'ios',\n",
       " 'thank',\n",
       " 'live',\n",
       " 'laugh',\n",
       " 'life',\n",
       " 'food',\n",
       " 'instago',\n",
       " 'instahub',\n",
       " 'instagram…',\n",
       " 'friendship',\n",
       " 'dog',\n",
       " 'family',\n",
       " 'goals',\n",
       " 'bestfriends',\n",
       " 'america',\n",
       " 'taken',\n",
       " 'sunset',\n",
       " 'sky',\n",
       " 'sister',\n",
       " 'bought',\n",
       " 'early',\n",
       " 'bday',\n",
       " 'gift',\n",
       " 'note',\n",
       " 'many',\n",
       " 'market',\n",
       " 'why',\n",
       " 'delete',\n",
       " 'songs',\n",
       " 'itunes',\n",
       " 'freaking',\n",
       " 'here',\n",
       " 'windows',\n",
       " 'phones',\n",
       " 'more',\n",
       " 'than',\n",
       " 'bad',\n",
       " 'cheap',\n",
       " 'same',\n",
       " 'tech',\n",
       " 'bull',\n",
       " 'smile',\n",
       " 'they',\n",
       " 'let',\n",
       " 'sunday',\n",
       " 'always',\n",
       " 'eyes',\n",
       " 'ootd',\n",
       " 'fashion',\n",
       " 'blackandwhite',\n",
       " 'film',\n",
       " 'set',\n",
       " 'video',\n",
       " 'producer',\n",
       " 'follow',\n",
       " 'movies',\n",
       " 'wallpaper',\n",
       " 'pink',\n",
       " 'sweet',\n",
       " 'sexy',\n",
       " 'week',\n",
       " 'end',\n",
       " 'iphoneplus',\n",
       " 'moment',\n",
       " 'see',\n",
       " 'photography',\n",
       " 'nature',\n",
       " 'landscape',\n",
       " 'view',\n",
       " 'tree',\n",
       " 'travel',\n",
       " 'google',\n",
       " 'cut',\n",
       " 'get',\n",
       " 'look',\n",
       " 'got',\n",
       " 'christmas',\n",
       " 'girl',\n",
       " 'instacool',\n",
       " 'free',\n",
       " 'game',\n",
       " 'appstore',\n",
       " 'at',\n",
       " 'joy',\n",
       " 'peace',\n",
       " 'remember',\n",
       " 'cloud',\n",
       " 'gr',\n",
       " 'iphone…',\n",
       " 'baby',\n",
       " 'pet',\n",
       " 'him',\n",
       " 'news',\n",
       " 'fail',\n",
       " 'funny',\n",
       " 'tablets',\n",
       " 'use',\n",
       " 'fan',\n",
       " 'think',\n",
       " 'product',\n",
       " 'friday',\n",
       " 'blackfriday',\n",
       " 'shop',\n",
       " 'holidays',\n",
       " 'gifts',\n",
       " 'newyork',\n",
       " 'business',\n",
       " 'money',\n",
       " 'birthday',\n",
       " 'tv',\n",
       " 'computer',\n",
       " 'school',\n",
       " 'seriously',\n",
       " 'going',\n",
       " 'into',\n",
       " 'other',\n",
       " 'chargers',\n",
       " 'month',\n",
       " 'after',\n",
       " 'good',\n",
       " 'job',\n",
       " 'having',\n",
       " 'actually',\n",
       " 'am',\n",
       " '£',\n",
       " 'thats',\n",
       " 'still',\n",
       " 'rt',\n",
       " 'sucks',\n",
       " 'droid',\n",
       " 'cool',\n",
       " 'picture',\n",
       " 'l',\n",
       " 'complete',\n",
       " 'run',\n",
       " 'beach',\n",
       " 'sport',\n",
       " 'bit',\n",
       " 'hashtag',\n",
       " 'yet',\n",
       " 'gain',\n",
       " 'followers',\n",
       " 'everyone',\n",
       " 'who',\n",
       " 'rts',\n",
       " 'sougofollow',\n",
       " 'ff',\n",
       " 'iphoneography',\n",
       " 'iphonephotography',\n",
       " 'mobile',\n",
       " 'colors',\n",
       " 'bright',\n",
       " 'users',\n",
       " 'dating',\n",
       " 'can',\n",
       " 'less',\n",
       " 'random',\n",
       " 'instamood',\n",
       " 'creative',\n",
       " 'hot',\n",
       " 'll',\n",
       " 'original',\n",
       " 'pop',\n",
       " 'red',\n",
       " 'rock',\n",
       " 'soul',\n",
       " 'singer',\n",
       " 'song',\n",
       " 'wedding',\n",
       " 'which',\n",
       " 'thought',\n",
       " 'id',\n",
       " 'lost',\n",
       " 'ipadmini',\n",
       " 'feeling',\n",
       " 'broken',\n",
       " 'being',\n",
       " 'replaced',\n",
       " 'happiness',\n",
       " 'light',\n",
       " 'please',\n",
       " 'indonesia',\n",
       " 'gold',\n",
       " 'potd',\n",
       " 'reset',\n",
       " 'sorry',\n",
       " 'white',\n",
       " 'tea',\n",
       " 'chilling',\n",
       " 'cover',\n",
       " 'samsunggalaxy',\n",
       " 'g',\n",
       " 'apples',\n",
       " 'came',\n",
       " 'magic',\n",
       " 'comes',\n",
       " 'followsunday',\n",
       " 'followback',\n",
       " 'teamfollowback',\n",
       " 'retweet',\n",
       " 'doing',\n",
       " 'ya',\n",
       " 'thing',\n",
       " 'i’m',\n",
       " 'months',\n",
       " 'it’s',\n",
       " 'been',\n",
       " 'already',\n",
       " 'problem',\n",
       " 'issue',\n",
       " 'able',\n",
       " 'shoot',\n",
       " 'pic',\n",
       " 'photos',\n",
       " 'call',\n",
       " 'put',\n",
       " 'price',\n",
       " 'device',\n",
       " 'memory',\n",
       " 'her',\n",
       " '–',\n",
       " 'oh',\n",
       " 'any',\n",
       " 'win',\n",
       " 'playstation',\n",
       " 'gamer',\n",
       " 'something',\n",
       " 'wrong',\n",
       " 'right',\n",
       " 'today',\n",
       " 'makes',\n",
       " 'lifestyle',\n",
       " 'fuckyou',\n",
       " 'never',\n",
       " 'little',\n",
       " 'quality',\n",
       " 'girlfriend',\n",
       " 'card',\n",
       " 'z',\n",
       " 'present',\n",
       " 'mom',\n",
       " 'macbookpro',\n",
       " 'macbook',\n",
       " 'quote',\n",
       " 'quotes',\n",
       " 'words',\n",
       " 'tweetgram',\n",
       " 'customer',\n",
       " 'great',\n",
       " 'repair',\n",
       " 'few',\n",
       " 'hour',\n",
       " 'everything',\n",
       " 'mode',\n",
       " 'usa',\n",
       " 'company',\n",
       " 'working',\n",
       " 'features',\n",
       " 'didnt',\n",
       " 'coffee',\n",
       " 'spring',\n",
       " 'galaxynote',\n",
       " 'special',\n",
       " 'valentine',\n",
       " 'nowplaying',\n",
       " 'daughter',\n",
       " 'poem',\n",
       " 'car',\n",
       " 'lunch',\n",
       " 'park',\n",
       " 'banana',\n",
       " 'dogs',\n",
       " 'autumn',\n",
       " 'spend',\n",
       " 'our',\n",
       " 'much',\n",
       " 'book',\n",
       " 'say',\n",
       " 'fuck',\n",
       " 'u',\n",
       " 'took',\n",
       " 'hours',\n",
       " 'download',\n",
       " 'hate',\n",
       " 'added',\n",
       " 'myself',\n",
       " 'twitter',\n",
       " 'under',\n",
       " 'n',\n",
       " 'last',\n",
       " 'mins',\n",
       " 'tmobile',\n",
       " 'come',\n",
       " 'rid',\n",
       " 'annoying',\n",
       " 'buy',\n",
       " 'full',\n",
       " 'version',\n",
       " 'mood',\n",
       " 'blog',\n",
       " 'style',\n",
       " 'bestoftheday',\n",
       " 'pretty',\n",
       " 'babe',\n",
       " 'send',\n",
       " 'turn',\n",
       " 'imessage',\n",
       " 'off',\n",
       " 'she',\n",
       " 'sleep',\n",
       " 'popular',\n",
       " 'tweet',\n",
       " 'shotoniphone',\n",
       " 'photographer',\n",
       " 'valentines',\n",
       " 'these',\n",
       " 'only',\n",
       " 'fml',\n",
       " 'nice',\n",
       " 'wait',\n",
       " 'over',\n",
       " 'hand',\n",
       " 'gb',\n",
       " 'first',\n",
       " 'bar',\n",
       " 'key',\n",
       " 'long',\n",
       " 'give',\n",
       " 'cold',\n",
       " 'siri',\n",
       " 'doesnt',\n",
       " 'literally',\n",
       " 'contacts',\n",
       " 'looks',\n",
       " 'available',\n",
       " 'b',\n",
       " 'laptop',\n",
       " 'vaio',\n",
       " 'blackberry',\n",
       " 'best',\n",
       " 'fruit',\n",
       " 'soon',\n",
       " 'yum',\n",
       " 'mac',\n",
       " 'very',\n",
       " 'updates',\n",
       " 'display',\n",
       " 'told',\n",
       " 'stop',\n",
       " 'p',\n",
       " 'three',\n",
       " 'things',\n",
       " 'gear',\n",
       " 'well',\n",
       " 'pictures',\n",
       " 'past',\n",
       " 'too',\n",
       " 'capetownsup',\n",
       " 'sup',\n",
       " 'surf',\n",
       " 'capetown',\n",
       " 'pro',\n",
       " 'half',\n",
       " 'stuff',\n",
       " 'arrived',\n",
       " 'excited',\n",
       " 'open',\n",
       " 'both',\n",
       " 'mine',\n",
       " 'keyboard',\n",
       " 'okay',\n",
       " 'though',\n",
       " 'enough',\n",
       " 'then',\n",
       " 'simple',\n",
       " 'colorful',\n",
       " 'th',\n",
       " 'sync',\n",
       " 'night',\n",
       " 'son',\n",
       " 'instagood…',\n",
       " 'jj',\n",
       " 'party',\n",
       " 'makeup',\n",
       " 'valentinesday',\n",
       " 'ad',\n",
       " 'february',\n",
       " 'portrait',\n",
       " 'shot',\n",
       " 'sonyalpha',\n",
       " 'mm',\n",
       " 'password',\n",
       " 'zoom',\n",
       " 'videos',\n",
       " 'deleted',\n",
       " 'single',\n",
       " 'stevejobs',\n",
       " 'yall',\n",
       " 'prophet',\n",
       " 'husband',\n",
       " 'kindle',\n",
       " 'a…',\n",
       " 'upgraded',\n",
       " 'help',\n",
       " 'children',\n",
       " 'theres',\n",
       " 'least',\n",
       " 'times',\n",
       " 'tab',\n",
       " 'real',\n",
       " 'tablet',\n",
       " 'hi',\n",
       " 'world',\n",
       " 'old',\n",
       " 'followme',\n",
       " 'samsung…',\n",
       " 'swag',\n",
       " 'cat',\n",
       " 'sick',\n",
       " 'bullshit',\n",
       " 'may',\n",
       " 'perfect',\n",
       " 'instaphoto',\n",
       " 'welcome',\n",
       " 'os',\n",
       " 'throw',\n",
       " 'lets',\n",
       " 'fast',\n",
       " 'w',\n",
       " 'fall',\n",
       " 'take',\n",
       " 'evening',\n",
       " 'two',\n",
       " 'devices',\n",
       " 'next',\n",
       " 'offer',\n",
       " 'middle',\n",
       " 'used',\n",
       " 'some',\n",
       " 'account',\n",
       " 'find',\n",
       " 'city',\n",
       " 'story',\n",
       " 'destiny',\n",
       " 'tweets',\n",
       " 'awesome',\n",
       " 'info',\n",
       " 'goodnight',\n",
       " 'dreams',\n",
       " 'hope',\n",
       " 'uae',\n",
       " 'lucky',\n",
       " 'deals',\n",
       " 'passion',\n",
       " 'reading',\n",
       " 'edm',\n",
       " 'whole',\n",
       " 'god',\n",
       " 'nx',\n",
       " 'beauty',\n",
       " 'updated',\n",
       " 'deal',\n",
       " 'high',\n",
       " 'usb',\n",
       " 'geek',\n",
       " 'bots',\n",
       " 'gadgets',\n",
       " 'power',\n",
       " 'pc',\n",
       " 'sprint',\n",
       " 'wish',\n",
       " 'minute',\n",
       " 'count',\n",
       " 'tls',\n",
       " 'accessories',\n",
       " 'ipads',\n",
       " 'listen',\n",
       " 'drive',\n",
       " 'nyc',\n",
       " 'through',\n",
       " 'he',\n",
       " 'loves',\n",
       " 'text',\n",
       " 'gay',\n",
       " 'ready',\n",
       " 'cellphone',\n",
       " 'space',\n",
       " 'ny',\n",
       " 'tattoo',\n",
       " 'totally',\n",
       " 'yes',\n",
       " 'via',\n",
       " 'air',\n",
       " 'fit',\n",
       " 'plus',\n",
       " 'sim',\n",
       " 'florida',\n",
       " 'sale',\n",
       " 'nokia',\n",
       " 'motorola',\n",
       " 'lg',\n",
       " 'offers',\n",
       " 'without',\n",
       " 'taking',\n",
       " 'speed',\n",
       " 'unitedstate',\n",
       " 'guitarplayer',\n",
       " 'smart',\n",
       " 'crap',\n",
       " 'calendar',\n",
       " 'event',\n",
       " 'user',\n",
       " 'icloud',\n",
       " 'angry',\n",
       " 'keeps',\n",
       " 'ever',\n",
       " 'since',\n",
       " 'team',\n",
       " 'trying',\n",
       " 'wouldnt',\n",
       " 'small',\n",
       " 'blue',\n",
       " '—',\n",
       " 'steemit',\n",
       " 'try',\n",
       " 'bug',\n",
       " 'sonylens',\n",
       " 'lens',\n",
       " 'sonyphotography',\n",
       " 'image',\n",
       " 'images',\n",
       " 'photofeed',\n",
       " 'feed',\n",
       " 'yeah',\n",
       " 'gorgeous',\n",
       " 'ig',\n",
       " 'orange',\n",
       " 'haha',\n",
       " 'dress',\n",
       " 'lock',\n",
       " 'reallyreal',\n",
       " 'college',\n",
       " 'true',\n",
       " 'chocolate',\n",
       " 'shit',\n",
       " 'nofilter',\n",
       " 'drink',\n",
       " 'purple',\n",
       " 'tasty',\n",
       " 'garden',\n",
       " 'cars',\n",
       " 'андроид',\n",
       " 'guys',\n",
       " 'bestprice',\n",
       " 'jun',\n",
       " 'unlock',\n",
       " 'cause',\n",
       " 'mommy',\n",
       " 'blessed',\n",
       " 'could',\n",
       " 'chinese',\n",
       " 'system',\n",
       " 'morning',\n",
       " 'nike',\n",
       " 'goodmorning',\n",
       " 'r',\n",
       " 'imac',\n",
       " 'date',\n",
       " 'years',\n",
       " 'mad',\n",
       " 'purpose',\n",
       " 'paris',\n",
       " 'rolling',\n",
       " 'verizon',\n",
       " 'marketing',\n",
       " 'headphones',\n",
       " 'show',\n",
       " 'sound',\n",
       " 'italy',\n",
       " 'socialmedia',\n",
       " 'learn',\n",
       " 'tomorrow',\n",
       " 'tried',\n",
       " 'heres',\n",
       " 'delicious',\n",
       " 'far',\n",
       " 'away',\n",
       " 'ebay',\n",
       " 'fix',\n",
       " 'easy',\n",
       " 'silver',\n",
       " 'oneplus',\n",
       " 'o',\n",
       " 'experience',\n",
       " 'flag',\n",
       " 'emoji',\n",
       " 'change',\n",
       " 'al',\n",
       " 'april',\n",
       " 'man',\n",
       " 'wanna',\n",
       " 'm',\n",
       " 'youre',\n",
       " 'kids',\n",
       " 'down',\n",
       " 'using',\n",
       " 'while',\n",
       " 'between',\n",
       " 'upgrade',\n",
       " 'people',\n",
       " 'word',\n",
       " 'friend',\n",
       " 'dad',\n",
       " 'anyone',\n",
       " 'else',\n",
       " 'block',\n",
       " 'numbers',\n",
       " 'bro',\n",
       " 'rhymes',\n",
       " 'start',\n",
       " 'rhyme',\n",
       " 'fixed',\n",
       " 'thx',\n",
       " 'jailbreak',\n",
       " 'igdaily',\n",
       " 'healthy',\n",
       " 'ugh',\n",
       " 'loving',\n",
       " 'feature',\n",
       " 'x',\n",
       " 'bc',\n",
       " 'cases',\n",
       " 'gratitude',\n",
       " 'edge',\n",
       " 'wow',\n",
       " 'sonyphotos',\n",
       " 'sonyphoto',\n",
       " 'top',\n",
       " 'takes',\n",
       " 'phonecase',\n",
       " 'june',\n",
       " 'sad',\n",
       " 'yellow',\n",
       " 'woman',\n",
       " 'might',\n",
       " 'india',\n",
       " 'canada',\n",
       " 'europe',\n",
       " 'charging',\n",
       " 'tell',\n",
       " 'galaxys',\n",
       " 'super',\n",
       " 'maps',\n",
       " 'applestore',\n",
       " 'says',\n",
       " 'hello',\n",
       " 'order',\n",
       " 'sent',\n",
       " 'went',\n",
       " 'likelike',\n",
       " 'running',\n",
       " 'wasnt',\n",
       " 'fans',\n",
       " 'insta',\n",
       " 'newphone',\n",
       " 'london',\n",
       " 'vsco',\n",
       " 'finger',\n",
       " 'anymore',\n",
       " 'future',\n",
       " 'cell',\n",
       " 'own',\n",
       " 'girls',\n",
       " 'playing',\n",
       " 'cats',\n",
       " 'instalike',\n",
       " 'sony…',\n",
       " 'march',\n",
       " 'proud',\n",
       " 'restore',\n",
       " 'hateiphones',\n",
       " 'enjoy',\n",
       " 'stickers',\n",
       " 'before',\n",
       " 'vscocam',\n",
       " 'most',\n",
       " 'waiting',\n",
       " 'better',\n",
       " 'kiss',\n",
       " 'hearts',\n",
       " 'fresh',\n",
       " 'library',\n",
       " 'inlove',\n",
       " 'luxury',\n",
       " 'pcs',\n",
       " 'exquisite',\n",
       " 'squishy',\n",
       " 'charm',\n",
       " 'straps',\n",
       " 'toys',\n",
       " 'decor',\n",
       " 'sales',\n",
       " 'cake',\n",
       " 'theyre',\n",
       " 'lte',\n",
       " 'facebook',\n",
       " 'winning',\n",
       " 'wiped',\n",
       " 'coming',\n",
       " 'humanity',\n",
       " 'fitness',\n",
       " 'sports',\n",
       " 'storage',\n",
       " 'shitty',\n",
       " 'weeks',\n",
       " 'switch',\n",
       " 'seeing',\n",
       " 'blonde',\n",
       " 'teamandroid',\n",
       " 'da',\n",
       " 'did',\n",
       " 'ly',\n",
       " 'flowers',\n",
       " 'lion',\n",
       " 'steve',\n",
       " 'jobs',\n",
       " 'also',\n",
       " 'feel',\n",
       " 'ill',\n",
       " 'osx',\n",
       " 'holiday',\n",
       " 'miss',\n",
       " 'couple',\n",
       " 'favorite',\n",
       " 'were',\n",
       " 'gadget',\n",
       " 'newtoy',\n",
       " 'nascar',\n",
       " 'tired',\n",
       " 'apparently',\n",
       " 'ago',\n",
       " 'zeeland',\n",
       " 'appletv',\n",
       " 'said',\n",
       " 'meet',\n",
       " 'smiles',\n",
       " 'link',\n",
       " 'code',\n",
       " 'tshirt',\n",
       " 't',\n",
       " 'tbt',\n",
       " 'boys',\n",
       " 'beats',\n",
       " 'yourself',\n",
       " 'should',\n",
       " 'problems',\n",
       " 'itself',\n",
       " 'videogames',\n",
       " 'second',\n",
       " 'sunny',\n",
       " 'nikon',\n",
       " 'deleting',\n",
       " 'useless',\n",
       " 'boyfriend',\n",
       " 'weekend',\n",
       " 'japan',\n",
       " 'starbucks',\n",
       " 'almost',\n",
       " 'applesucks',\n",
       " 'bye',\n",
       " 'search',\n",
       " 'dinner',\n",
       " 'discount',\n",
       " 'ordered',\n",
       " 'bluetooth',\n",
       " 'looking',\n",
       " 'inch',\n",
       " 'wireless',\n",
       " 'data',\n",
       " ...]"
      ]
     },
     "execution_count": 28,
     "metadata": {},
     "output_type": "execute_result"
    }
   ],
   "source": [
    "tokens"
   ]
  },
  {
   "cell_type": "code",
   "execution_count": 29,
   "id": "ce128f6a-2b3e-496b-81f4-f7e963eb3a51",
   "metadata": {},
   "outputs": [
    {
     "data": {
      "text/plain": [
       "1270"
      ]
     },
     "execution_count": 29,
     "metadata": {},
     "output_type": "execute_result"
    }
   ],
   "source": [
    "len(tokens)"
   ]
  },
  {
   "cell_type": "code",
   "execution_count": 30,
   "id": "d5262cba-6082-4447-83d6-6ef645c041a1",
   "metadata": {},
   "outputs": [],
   "source": [
    "def save_vocabulary(lines, filename):\n",
    "    data = '\\n'.join(lines)\n",
    "    file = open(filename, 'w', encoding=\"utf-8\")\n",
    "    file.write(data)\n",
    "    file.close()\n",
    "\n",
    "save_vocabulary(tokens, '../static/model/vocabulary.txt')"
   ]
  },
  {
   "cell_type": "markdown",
   "id": "f1260562-8c3b-4d64-88f0-2ebc44f139b4",
   "metadata": {},
   "source": [
    "## Divide Dataset"
   ]
  },
  {
   "cell_type": "code",
   "execution_count": 31,
   "id": "b8017bf4-1a04-4ae5-99d7-4f1430c6244b",
   "metadata": {},
   "outputs": [],
   "source": [
    "X = data['tweet']\n",
    "y = data['label']"
   ]
  },
  {
   "cell_type": "code",
   "execution_count": 32,
   "id": "ae2f93c4-a85a-4ccf-92e6-5a73a96f6252",
   "metadata": {},
   "outputs": [
    {
     "name": "stdout",
     "output_type": "stream",
     "text": [
      "Requirement already satisfied: scikit-learn in d:\\mern_course\\testproject\\sentiment-analysis-project\\env\\lib\\site-packages (1.7.2)\n",
      "Requirement already satisfied: numpy>=1.22.0 in d:\\mern_course\\testproject\\sentiment-analysis-project\\env\\lib\\site-packages (from scikit-learn) (2.3.2)\n",
      "Requirement already satisfied: scipy>=1.8.0 in d:\\mern_course\\testproject\\sentiment-analysis-project\\env\\lib\\site-packages (from scikit-learn) (1.16.1)\n",
      "Requirement already satisfied: joblib>=1.2.0 in d:\\mern_course\\testproject\\sentiment-analysis-project\\env\\lib\\site-packages (from scikit-learn) (1.5.2)\n",
      "Requirement already satisfied: threadpoolctl>=3.1.0 in d:\\mern_course\\testproject\\sentiment-analysis-project\\env\\lib\\site-packages (from scikit-learn) (3.6.0)\n"
     ]
    },
    {
     "name": "stderr",
     "output_type": "stream",
     "text": [
      "\n",
      "[notice] A new release of pip is available: 23.2.1 -> 25.2\n",
      "[notice] To update, run: python.exe -m pip install --upgrade pip\n"
     ]
    }
   ],
   "source": [
    "!pip install scikit-learn"
   ]
  },
  {
   "cell_type": "code",
   "execution_count": 33,
   "id": "c346866b-c986-4481-bd71-a46d51358b8f",
   "metadata": {},
   "outputs": [],
   "source": [
    "from sklearn.model_selection import train_test_split\n",
    "X_train, X_test, y_train, y_test = train_test_split(X, y, test_size=0.2)"
   ]
  },
  {
   "cell_type": "code",
   "execution_count": 34,
   "id": "4332a931-1e30-491f-931d-8a5313447e05",
   "metadata": {},
   "outputs": [
    {
     "data": {
      "text/plain": [
       "5596    best twwitter word twitter iphone internet sns...\n",
       "4990    sony autopayments  your stupid feature just fu...\n",
       "7003     off codefindgifts  … via redbubble redbubble ...\n",
       "3616    my girls and me samsung galaxy s family collag...\n",
       "7272    months amazonprimevideo  free – no catch  ston...\n",
       "                              ...                        \n",
       "3752    yay new game ps sony playstation need for spee...\n",
       "4637    my g needs to take a long hard look at itself ...\n",
       "3504    they say that this is not the first time they ...\n",
       "3532    seriously hate my iphone it deleted all my pic...\n",
       "4079    two days to unveil samsung galaxy s  main fact...\n",
       "Name: tweet, Length: 6336, dtype: object"
      ]
     },
     "execution_count": 34,
     "metadata": {},
     "output_type": "execute_result"
    }
   ],
   "source": [
    "X_train"
   ]
  },
  {
   "cell_type": "code",
   "execution_count": 36,
   "id": "19bbee46-c4eb-4d43-abbc-6753a945b16c",
   "metadata": {},
   "outputs": [
    {
     "data": {
      "text/plain": [
       "5696    great hold trophi fun instaboy instagram insta...\n",
       "6118    smile x today dutch girl netherland brunett sm...\n",
       "2505    like share want fast charger iphon iphon sam …...\n",
       "3158    thank god got rid iphon week cuz cutest phone ...\n",
       "6934    rate customis iphon iphon gold luxuri celeb fa...\n",
       "                              ...                        \n",
       "4824       charg phone night percent need new one samsung\n",
       "5425    girlfriend hand promis coupl woman man iphon appl\n",
       "7576    ➊ followtrick ➋ retweet ➌ follow rt ➍ followba...\n",
       "1125    beauti famili instagood instagram instamood ip...\n",
       "5545    jeaj samsung valentin badkam brown hair black ...\n",
       "Name: tweet, Length: 1584, dtype: object"
      ]
     },
     "execution_count": 36,
     "metadata": {},
     "output_type": "execute_result"
    }
   ],
   "source": [
    "X_test"
   ]
  },
  {
   "cell_type": "code",
   "execution_count": 37,
   "id": "a5eb4b91-5b2a-406d-b74c-61f488d8fb9d",
   "metadata": {},
   "outputs": [
    {
     "data": {
      "text/plain": [
       "4819    0\n",
       "3499    0\n",
       "2345    0\n",
       "3636    1\n",
       "4055    0\n",
       "       ..\n",
       "2263    0\n",
       "4830    1\n",
       "7875    0\n",
       "5895    1\n",
       "1211    0\n",
       "Name: label, Length: 6336, dtype: int64"
      ]
     },
     "execution_count": 37,
     "metadata": {},
     "output_type": "execute_result"
    }
   ],
   "source": [
    "y_train"
   ]
  },
  {
   "cell_type": "markdown",
   "id": "0869e7e4-17d9-497c-9208-cc62bcea35bc",
   "metadata": {},
   "source": [
    "### Vectorization"
   ]
  },
  {
   "cell_type": "code",
   "execution_count": 35,
   "id": "f0cbfa5a-015d-4fba-8848-a1218302c8bf",
   "metadata": {},
   "outputs": [],
   "source": [
    "\n",
    "def vectorizer(ds, vocabulary):\n",
    "    vectorized_lst = []\n",
    "    \n",
    "    for sentence in ds:\n",
    "        sentence_lst = np.zeros(len(vocabulary))\n",
    "        \n",
    "        for i in range(len(vocabulary)):\n",
    "            if vocabulary[i] in sentence.split():\n",
    "                sentence_lst[i] = 1\n",
    "                \n",
    "        vectorized_lst.append(sentence_lst)\n",
    "        \n",
    "    vectorized_lst_new = np.asarray(vectorized_lst, dtype=np.float32)\n",
    "    \n",
    "    return vectorized_lst_new"
   ]
  },
  {
   "cell_type": "code",
   "execution_count": 36,
   "id": "a437a3f0-52c6-4ad9-981c-13ad96f83dd3",
   "metadata": {},
   "outputs": [],
   "source": [
    "vectorized_x_train = vectorizer(X_train, tokens)"
   ]
  },
  {
   "cell_type": "code",
   "execution_count": 37,
   "id": "f882cc81-7aee-4133-b56b-ae89487470b0",
   "metadata": {},
   "outputs": [
    {
     "data": {
      "text/plain": [
       "array([[0., 0., 0., ..., 0., 0., 0.],\n",
       "       [0., 0., 0., ..., 0., 0., 0.],\n",
       "       [0., 0., 0., ..., 0., 0., 0.],\n",
       "       ...,\n",
       "       [0., 0., 0., ..., 0., 0., 0.],\n",
       "       [0., 1., 0., ..., 0., 0., 0.],\n",
       "       [1., 0., 0., ..., 0., 0., 0.]], shape=(6336, 1270), dtype=float32)"
      ]
     },
     "execution_count": 37,
     "metadata": {},
     "output_type": "execute_result"
    }
   ],
   "source": [
    "vectorized_x_train"
   ]
  },
  {
   "cell_type": "code",
   "execution_count": 41,
   "id": "116596d3-3f81-4905-be33-707a50bbdf77",
   "metadata": {},
   "outputs": [
    {
     "data": {
      "text/plain": [
       "4819    0\n",
       "3499    0\n",
       "2345    0\n",
       "3636    1\n",
       "4055    0\n",
       "       ..\n",
       "2263    0\n",
       "4830    1\n",
       "7875    0\n",
       "5895    1\n",
       "1211    0\n",
       "Name: label, Length: 6336, dtype: int64"
      ]
     },
     "execution_count": 41,
     "metadata": {},
     "output_type": "execute_result"
    }
   ],
   "source": [
    "y_train"
   ]
  },
  {
   "cell_type": "code",
   "execution_count": 38,
   "id": "7a77e1d6-60dc-44e6-8cdf-68e8153de172",
   "metadata": {},
   "outputs": [],
   "source": [
    "vectorized_x_test = vectorizer(X_test, tokens)"
   ]
  },
  {
   "cell_type": "code",
   "execution_count": 39,
   "id": "020e34d4-1aca-4391-9559-04bca5c9fbd2",
   "metadata": {},
   "outputs": [
    {
     "data": {
      "text/plain": [
       "array([[0., 0., 0., ..., 0., 0., 0.],\n",
       "       [1., 1., 0., ..., 0., 0., 0.],\n",
       "       [0., 0., 0., ..., 0., 0., 0.],\n",
       "       ...,\n",
       "       [0., 1., 0., ..., 0., 0., 0.],\n",
       "       [0., 0., 0., ..., 0., 0., 0.],\n",
       "       [0., 0., 0., ..., 0., 0., 0.]], shape=(1584, 1270), dtype=float32)"
      ]
     },
     "execution_count": 39,
     "metadata": {},
     "output_type": "execute_result"
    }
   ],
   "source": [
    "vectorized_x_test"
   ]
  },
  {
   "cell_type": "code",
   "execution_count": 44,
   "id": "281e5d9a-7b1d-48aa-9005-a5a4c157578d",
   "metadata": {},
   "outputs": [
    {
     "data": {
      "text/plain": [
       "5696    0\n",
       "6118    0\n",
       "2505    0\n",
       "3158    0\n",
       "6934    0\n",
       "       ..\n",
       "4824    1\n",
       "5425    0\n",
       "7576    0\n",
       "1125    0\n",
       "5545    0\n",
       "Name: label, Length: 1584, dtype: int64"
      ]
     },
     "execution_count": 44,
     "metadata": {},
     "output_type": "execute_result"
    }
   ],
   "source": [
    "y_test"
   ]
  },
  {
   "cell_type": "code",
   "execution_count": 40,
   "id": "643e4a26-7a05-43a2-a25f-a11990559682",
   "metadata": {},
   "outputs": [
    {
     "data": {
      "text/plain": [
       "label\n",
       "0    4707\n",
       "1    1629\n",
       "Name: count, dtype: int64"
      ]
     },
     "execution_count": 40,
     "metadata": {},
     "output_type": "execute_result"
    }
   ],
   "source": [
    "y_train.value_counts()"
   ]
  },
  {
   "cell_type": "code",
   "execution_count": 46,
   "id": "48a2d945-7323-45f8-9978-c12514475626",
   "metadata": {},
   "outputs": [
    {
     "data": {
      "image/png": "[encoded data removed]",
      "text/plain": [
       "<Figure size 640x480 with 1 Axes>"
      ]
     },
     "metadata": {},
     "output_type": "display_data"
    }
   ],
   "source": [
    "plt.pie(np.array([y_train.value_counts()[0], y_train.value_counts()[1]]), labels=['Positive', 'Negative'])\n",
    "plt.show()"
   ]
  },
  {
   "cell_type": "markdown",
   "id": "2ae3b723-0a42-4d6b-8859-05e8dab5bc01",
   "metadata": {},
   "source": [
    "### Handle imbalanced dataset"
   ]
  },
  {
   "cell_type": "code",
   "execution_count": 41,
   "id": "9619700b-fcfe-4135-b417-3f68fea12cd0",
   "metadata": {},
   "outputs": [
    {
     "name": "stdout",
     "output_type": "stream",
     "text": [
      "Requirement already satisfied: imbalanced-learn in d:\\mern_course\\testproject\\sentiment-analysis-project\\env\\lib\\site-packages (0.14.0)\n",
      "Requirement already satisfied: numpy<3,>=1.25.2 in d:\\mern_course\\testproject\\sentiment-analysis-project\\env\\lib\\site-packages (from imbalanced-learn) (2.3.2)\n",
      "Requirement already satisfied: scipy<2,>=1.11.4 in d:\\mern_course\\testproject\\sentiment-analysis-project\\env\\lib\\site-packages (from imbalanced-learn) (1.16.1)\n",
      "Requirement already satisfied: scikit-learn<2,>=1.4.2 in d:\\mern_course\\testproject\\sentiment-analysis-project\\env\\lib\\site-packages (from imbalanced-learn) (1.7.2)\n",
      "Requirement already satisfied: joblib<2,>=1.2.0 in d:\\mern_course\\testproject\\sentiment-analysis-project\\env\\lib\\site-packages (from imbalanced-learn) (1.5.2)\n",
      "Requirement already satisfied: threadpoolctl<4,>=2.0.0 in d:\\mern_course\\testproject\\sentiment-analysis-project\\env\\lib\\site-packages (from imbalanced-learn) (3.6.0)\n"
     ]
    },
    {
     "name": "stderr",
     "output_type": "stream",
     "text": [
      "\n",
      "[notice] A new release of pip is available: 23.2.1 -> 25.2\n",
      "[notice] To update, run: python.exe -m pip install --upgrade pip\n"
     ]
    }
   ],
   "source": [
    "!pip install imbalanced-learn"
   ]
  },
  {
   "cell_type": "code",
   "execution_count": 55,
   "id": "d9a12828-91ec-4590-ba42-eed7aceaa4bc",
   "metadata": {},
   "outputs": [
    {
     "name": "stdout",
     "output_type": "stream",
     "text": [
      "(9414, 1270) (9414,)\n"
     ]
    }
   ],
   "source": [
    "from imblearn.over_sampling import SMOTE\n",
    "smote = SMOTE()\n",
    "vectorized_x_train_smote, y_train_smote = smote.fit_resample(vectorized_x_train, y_train)\n",
    "print(vectorized_x_train_smote.shape, y_train_smote.shape)"
   ]
  },
  {
   "cell_type": "code",
   "execution_count": 56,
   "id": "0054d5c1-ab2f-4dc5-8535-91df39a30a36",
   "metadata": {},
   "outputs": [
    {
     "data": {
      "text/plain": [
       "label\n",
       "0    4707\n",
       "1    4707\n",
       "Name: count, dtype: int64"
      ]
     },
     "execution_count": 56,
     "metadata": {},
     "output_type": "execute_result"
    }
   ],
   "source": [
    "y_train_smote.value_counts()"
   ]
  },
  {
   "cell_type": "code",
   "execution_count": 44,
   "id": "37e9da45-75fc-4ede-9e15-d49a9f568663",
   "metadata": {},
   "outputs": [
    {
     "data": {
      "image/png": "[encoded data removed]",
      "text/plain": [
       "<Figure size 640x480 with 1 Axes>"
      ]
     },
     "metadata": {},
     "output_type": "display_data"
    }
   ],
   "source": [
    "plt.pie(np.array([y_train_smote.value_counts()[0], y_train_smote.value_counts()[1]]), labels=['Positive', 'Negative'])\n",
    "plt.show()"
   ]
  },
  {
   "cell_type": "code",
   "execution_count": 45,
   "id": "9fe2fe21-c9a9-43d9-96dc-1c688bf82ead",
   "metadata": {},
   "outputs": [
    {
     "data": {
      "text/plain": [
       "array([[0., 0., 0., ..., 0., 0., 0.],\n",
       "       [0., 0., 0., ..., 0., 0., 0.],\n",
       "       [0., 0., 0., ..., 0., 0., 0.],\n",
       "       ...,\n",
       "       [0., 0., 0., ..., 0., 0., 0.],\n",
       "       [0., 0., 0., ..., 0., 0., 0.],\n",
       "       [0., 0., 0., ..., 0., 0., 0.]], shape=(9414, 1270), dtype=float32)"
      ]
     },
     "execution_count": 45,
     "metadata": {},
     "output_type": "execute_result"
    }
   ],
   "source": [
    "vectorized_x_train_smote"
   ]
  },
  {
   "cell_type": "code",
   "execution_count": 46,
   "id": "bd744419-4b81-41bb-931b-565e9acce418",
   "metadata": {},
   "outputs": [
    {
     "data": {
      "text/plain": [
       "0       0\n",
       "1       1\n",
       "2       0\n",
       "3       0\n",
       "4       0\n",
       "       ..\n",
       "9409    1\n",
       "9410    1\n",
       "9411    1\n",
       "9412    1\n",
       "9413    1\n",
       "Name: label, Length: 9414, dtype: int64"
      ]
     },
     "execution_count": 46,
     "metadata": {},
     "output_type": "execute_result"
    }
   ],
   "source": [
    "\n",
    "y_train_smote"
   ]
  },
  {
   "cell_type": "code",
   "execution_count": 52,
   "id": "d4abbcea-5a60-424a-aaab-459122637905",
   "metadata": {},
   "outputs": [
    {
     "data": {
      "text/plain": [
       "array([[0., 0., 0., ..., 0., 0., 0.],\n",
       "       [0., 0., 0., ..., 0., 0., 0.],\n",
       "       [0., 0., 0., ..., 0., 0., 0.],\n",
       "       ...,\n",
       "       [0., 0., 0., ..., 0., 0., 0.],\n",
       "       [0., 0., 0., ..., 0., 0., 0.],\n",
       "       [0., 0., 0., ..., 0., 0., 0.]], shape=(1584, 1145), dtype=float32)"
      ]
     },
     "execution_count": 52,
     "metadata": {},
     "output_type": "execute_result"
    }
   ],
   "source": [
    "\n",
    "vectorized_x_test"
   ]
  },
  {
   "cell_type": "code",
   "execution_count": 53,
   "id": "bb2251fe-f0c6-4999-ad31-6556937862a3",
   "metadata": {},
   "outputs": [
    {
     "data": {
      "text/plain": [
       "5696    0\n",
       "6118    0\n",
       "2505    0\n",
       "3158    0\n",
       "6934    0\n",
       "       ..\n",
       "4824    1\n",
       "5425    0\n",
       "7576    0\n",
       "1125    0\n",
       "5545    0\n",
       "Name: label, Length: 1584, dtype: int64"
      ]
     },
     "execution_count": 53,
     "metadata": {},
     "output_type": "execute_result"
    }
   ],
   "source": [
    "\n",
    "y_test"
   ]
  },
  {
   "cell_type": "markdown",
   "id": "6729b9be-3c79-4f76-9a89-ab26146359fd",
   "metadata": {},
   "source": [
    "## Model Training and Evaluation"
   ]
  },
  {
   "cell_type": "code",
   "execution_count": 47,
   "id": "6b57381c-6755-4b59-a449-1a56c098d8b9",
   "metadata": {},
   "outputs": [],
   "source": [
    "\n",
    "from sklearn.linear_model import LogisticRegression\n",
    "from sklearn.naive_bayes import MultinomialNB\n",
    "from sklearn.tree import DecisionTreeClassifier\n",
    "from sklearn.ensemble import RandomForestClassifier\n",
    "from sklearn.svm import SVC"
   ]
  },
  {
   "cell_type": "code",
   "execution_count": 48,
   "id": "13c4d6bc-831e-4f33-99e9-45bbc007096d",
   "metadata": {},
   "outputs": [],
   "source": [
    "from sklearn.metrics import accuracy_score, f1_score, precision_score, recall_score\n",
    "\n",
    "def training_scores(y_act, y_pred):\n",
    "    acc = round(accuracy_score(y_act, y_pred), 3)\n",
    "    pr = round(precision_score(y_act, y_pred), 3)\n",
    "    rec = round(recall_score(y_act, y_pred), 3)\n",
    "    f1 = round(f1_score(y_act, y_pred), 3)\n",
    "    print(f'Training Scores:\\n\\tAccuracy = {acc}\\n\\tPrecision = {pr}\\n\\tRecall = {rec}\\n\\tF1-Score = {f1}')\n",
    "    \n",
    "def validation_scores(y_act, y_pred):\n",
    "    acc = round(accuracy_score(y_act, y_pred), 3)\n",
    "    pr = round(precision_score(y_act, y_pred), 3)\n",
    "    rec = round(recall_score(y_act, y_pred), 3)\n",
    "    f1 = round(f1_score(y_act, y_pred), 3)\n",
    "    print(f'Testing Scores:\\n\\tAccuracy = {acc}\\n\\tPrecision = {pr}\\n\\tRecall = {rec}\\n\\tF1-Score = {f1}')"
   ]
  },
  {
   "cell_type": "markdown",
   "id": "e0769d74-8fa2-451a-a74e-680ddddb3ea6",
   "metadata": {},
   "source": [
    "### Logistic Regression"
   ]
  },
  {
   "cell_type": "code",
   "execution_count": 49,
   "id": "3d985e74-847f-426e-97d1-edaf1604a0eb",
   "metadata": {},
   "outputs": [
    {
     "name": "stdout",
     "output_type": "stream",
     "text": [
      "Training Scores:\n",
      "\tAccuracy = 0.946\n",
      "\tPrecision = 0.923\n",
      "\tRecall = 0.974\n",
      "\tF1-Score = 0.947\n",
      "Testing Scores:\n",
      "\tAccuracy = 0.884\n",
      "\tPrecision = 0.74\n",
      "\tRecall = 0.831\n",
      "\tF1-Score = 0.783\n"
     ]
    }
   ],
   "source": [
    "\n",
    "lr = LogisticRegression()\n",
    "lr.fit(vectorized_x_train_smote, y_train_smote)\n",
    "\n",
    "y_train_pred = lr.predict(vectorized_x_train_smote)\n",
    "\n",
    "y_test_pred = lr.predict(vectorized_x_test)\n",
    "\n",
    "training_scores(y_train_smote, y_train_pred)\n",
    "\n",
    "validation_scores(y_test, y_test_pred)"
   ]
  },
  {
   "cell_type": "markdown",
   "id": "a2b05dcf-0d59-4ded-a18e-6953961d0ab7",
   "metadata": {},
   "source": [
    "### Naive Bayes"
   ]
  },
  {
   "cell_type": "code",
   "execution_count": 50,
   "id": "dbdeee35-12d4-4a04-aabc-e1078930030a",
   "metadata": {},
   "outputs": [
    {
     "name": "stdout",
     "output_type": "stream",
     "text": [
      "Training Scores:\n",
      "\tAccuracy = 0.906\n",
      "\tPrecision = 0.861\n",
      "\tRecall = 0.969\n",
      "\tF1-Score = 0.912\n",
      "Testing Scores:\n",
      "\tAccuracy = 0.864\n",
      "\tPrecision = 0.662\n",
      "\tRecall = 0.935\n",
      "\tF1-Score = 0.775\n"
     ]
    }
   ],
   "source": [
    "mnb = MultinomialNB()\n",
    "mnb.fit(vectorized_x_train_smote, y_train_smote)\n",
    "\n",
    "y_train_pred = mnb.predict(vectorized_x_train_smote)\n",
    "\n",
    "y_test_pred = mnb.predict(vectorized_x_test)\n",
    "\n",
    "training_scores(y_train_smote, y_train_pred)\n",
    "\n",
    "validation_scores(y_test, y_test_pred)"
   ]
  },
  {
   "cell_type": "markdown",
   "id": "c28d1b61-22fd-47df-a52c-941986a9c105",
   "metadata": {},
   "source": [
    "### Decision Tree"
   ]
  },
  {
   "cell_type": "code",
   "execution_count": 51,
   "id": "d25dae43-abaf-44cf-b6c2-c0c42673741f",
   "metadata": {},
   "outputs": [
    {
     "name": "stdout",
     "output_type": "stream",
     "text": [
      "Training Scores:\n",
      "\tAccuracy = 1.0\n",
      "\tPrecision = 1.0\n",
      "\tRecall = 1.0\n",
      "\tF1-Score = 1.0\n",
      "Testing Scores:\n",
      "\tAccuracy = 0.809\n",
      "\tPrecision = 0.621\n",
      "\tRecall = 0.612\n",
      "\tF1-Score = 0.617\n"
     ]
    }
   ],
   "source": [
    "\n",
    "dt = DecisionTreeClassifier()\n",
    "\n",
    "dt.fit(vectorized_x_train_smote, y_train_smote)\n",
    "\n",
    "y_train_pred = dt.predict(vectorized_x_train_smote)\n",
    "\n",
    "y_test_pred = dt.predict(vectorized_x_test)\n",
    "\n",
    "training_scores(y_train_smote, y_train_pred)\n",
    "\n",
    "validation_scores(y_test, y_test_pred)"
   ]
  },
  {
   "cell_type": "markdown",
   "id": "d810a876-968f-4eae-a7db-5213dad9757f",
   "metadata": {},
   "source": [
    "### Random Forest"
   ]
  },
  {
   "cell_type": "code",
   "execution_count": 52,
   "id": "3fa607ac-3993-47fc-b706-99eb9edf8aa0",
   "metadata": {},
   "outputs": [
    {
     "name": "stdout",
     "output_type": "stream",
     "text": [
      "Training Scores:\n",
      "\tAccuracy = 1.0\n",
      "\tPrecision = 1.0\n",
      "\tRecall = 1.0\n",
      "\tF1-Score = 1.0\n",
      "Testing Scores:\n",
      "\tAccuracy = 0.875\n",
      "\tPrecision = 0.763\n",
      "\tRecall = 0.728\n",
      "\tF1-Score = 0.745\n"
     ]
    }
   ],
   "source": [
    "rf = RandomForestClassifier()\n",
    "\n",
    "rf.fit(vectorized_x_train_smote, y_train_smote)\n",
    "\n",
    "y_train_pred = rf.predict(vectorized_x_train_smote)\n",
    "\n",
    "y_test_pred = rf.predict(vectorized_x_test)\n",
    "\n",
    "training_scores(y_train_smote, y_train_pred)\n",
    "\n",
    "validation_scores(y_test, y_test_pred)"
   ]
  },
  {
   "cell_type": "markdown",
   "id": "ae7cad0d-39d8-4eaf-b3c8-6f649aed9dc6",
   "metadata": {},
   "source": [
    "### Support Vector Machine"
   ]
  },
  {
   "cell_type": "code",
   "execution_count": 53,
   "id": "fb72e536-e36f-4895-95f1-240d0f2b452a",
   "metadata": {},
   "outputs": [
    {
     "name": "stdout",
     "output_type": "stream",
     "text": [
      "Training Scores:\n",
      "\tAccuracy = 0.984\n",
      "\tPrecision = 0.973\n",
      "\tRecall = 0.997\n",
      "\tF1-Score = 0.985\n",
      "Testing Scores:\n",
      "\tAccuracy = 0.89\n",
      "\tPrecision = 0.756\n",
      "\tRecall = 0.829\n",
      "\tF1-Score = 0.791\n"
     ]
    }
   ],
   "source": [
    "svm = SVC()\n",
    "\n",
    "svm.fit(vectorized_x_train_smote, y_train_smote)\n",
    "\n",
    "y_train_pred = svm.predict(vectorized_x_train_smote)\n",
    "\n",
    "y_test_pred = svm.predict(vectorized_x_test)\n",
    "\n",
    "training_scores(y_train_smote, y_train_pred)\n",
    "\n",
    "validation_scores(y_test, y_test_pred)"
   ]
  },
  {
   "cell_type": "code",
   "execution_count": 54,
   "id": "e7e7d02f-2435-4923-b989-3fd13b032683",
   "metadata": {},
   "outputs": [],
   "source": [
    "import pickle\n",
    "\n",
    "with open('../static/model/model.pickle', 'wb') as file:\n",
    "    pickle.dump(svm, file)"
   ]
  },
  {
   "cell_type": "code",
   "execution_count": null,
   "id": "b073f541-2160-489b-b1f3-5aead6d78e66",
   "metadata": {},
   "outputs": [],
   "source": []
  }
 ],
 "metadata": {
  "kernelspec": {
   "display_name": "Python 3 (ipykernel)",
   "language": "python",
   "name": "python3"
  },
  "language_info": {
   "codemirror_mode": {
    "name": "ipython",
    "version": 3
   },
   "file_extension": ".py",
   "mimetype": "text/x-python",
   "name": "python",
   "nbconvert_exporter": "python",
   "pygments_lexer": "ipython3",
   "version": "3.12.0"
  }
 },
 "nbformat": 4,
 "nbformat_minor": 5
}
