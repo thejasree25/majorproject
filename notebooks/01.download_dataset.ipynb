{
 "cells": [
  {
   "cell_type": "code",
   "execution_count": 1,
   "id": "e1503c5f",
   "metadata": {},
   "outputs": [],
   "source": [
    "import numpy as np"
   ]
  },
  {
   "cell_type": "code",
   "execution_count": 2,
   "id": "e7a22acc-9b27-4b93-8769-36f70c43b8de",
   "metadata": {},
   "outputs": [
    {
     "name": "stdout",
     "output_type": "stream",
     "text": [
      "{'username': 'sangeethmadushan', 'key': 'df2a256923c52a0a8b6c6c0afd4baa03'}\n"
     ]
    }
   ],
   "source": [
    "import json\n",
    "\n",
    "# Go up one folder (..) from src/, then into artifacts/\n",
    "with open('../artifacts/kaggle.json', 'r') as file:\n",
    "    data = json.load(file)\n",
    "\n",
    "print(data)  # to check if it loads correctly\n"
   ]
  },
  {
   "cell_type": "code",
   "execution_count": 3,
   "id": "74fc9e45-70da-4159-bc6c-6c7ebe23d7aa",
   "metadata": {},
   "outputs": [
    {
     "name": "stdout",
     "output_type": "stream",
     "text": [
      "Requirement already satisfied: kaggle in d:\\mern_course\\testproject\\sentiment-analysis-project\\env\\lib\\site-packages (1.7.4.5)\n",
      "Requirement already satisfied: bleach in d:\\mern_course\\testproject\\sentiment-analysis-project\\env\\lib\\site-packages (from kaggle) (6.2.0)\n",
      "Requirement already satisfied: certifi>=14.05.14 in d:\\mern_course\\testproject\\sentiment-analysis-project\\env\\lib\\site-packages (from kaggle) (2025.8.3)\n",
      "Requirement already satisfied: charset-normalizer in d:\\mern_course\\testproject\\sentiment-analysis-project\\env\\lib\\site-packages (from kaggle) (3.4.3)\n",
      "Requirement already satisfied: idna in d:\\mern_course\\testproject\\sentiment-analysis-project\\env\\lib\\site-packages (from kaggle) (3.10)\n",
      "Requirement already satisfied: protobuf in d:\\mern_course\\testproject\\sentiment-analysis-project\\env\\lib\\site-packages (from kaggle) (6.32.0)\n",
      "Requirement already satisfied: python-dateutil>=2.5.3 in d:\\mern_course\\testproject\\sentiment-analysis-project\\env\\lib\\site-packages (from kaggle) (2.9.0.post0)\n",
      "Requirement already satisfied: python-slugify in d:\\mern_course\\testproject\\sentiment-analysis-project\\env\\lib\\site-packages (from kaggle) (8.0.4)\n",
      "Requirement already satisfied: requests in d:\\mern_course\\testproject\\sentiment-analysis-project\\env\\lib\\site-packages (from kaggle) (2.32.5)\n",
      "Requirement already satisfied: setuptools>=21.0.0 in d:\\mern_course\\testproject\\sentiment-analysis-project\\env\\lib\\site-packages (from kaggle) (80.9.0)\n",
      "Requirement already satisfied: six>=1.10 in d:\\mern_course\\testproject\\sentiment-analysis-project\\env\\lib\\site-packages (from kaggle) (1.17.0)\n",
      "Requirement already satisfied: text-unidecode in d:\\mern_course\\testproject\\sentiment-analysis-project\\env\\lib\\site-packages (from kaggle) (1.3)\n",
      "Requirement already satisfied: tqdm in d:\\mern_course\\testproject\\sentiment-analysis-project\\env\\lib\\site-packages (from kaggle) (4.67.1)\n",
      "Requirement already satisfied: urllib3>=1.15.1 in d:\\mern_course\\testproject\\sentiment-analysis-project\\env\\lib\\site-packages (from kaggle) (2.5.0)\n",
      "Requirement already satisfied: webencodings in d:\\mern_course\\testproject\\sentiment-analysis-project\\env\\lib\\site-packages (from kaggle) (0.5.1)\n",
      "Requirement already satisfied: colorama in d:\\mern_course\\testproject\\sentiment-analysis-project\\env\\lib\\site-packages (from tqdm->kaggle) (0.4.6)\n"
     ]
    },
    {
     "name": "stderr",
     "output_type": "stream",
     "text": [
      "\n",
      "[notice] A new release of pip is available: 23.2.1 -> 25.2\n",
      "[notice] To update, run: python.exe -m pip install --upgrade pip\n"
     ]
    }
   ],
   "source": [
    "!pip install kaggle\n"
   ]
  },
  {
   "cell_type": "code",
   "execution_count": 4,
   "id": "5e2bd40e-ab1e-4610-8cb6-61d1dfecac8e",
   "metadata": {},
   "outputs": [],
   "source": [
    "import os\n",
    "os.environ[\"KAGGLE_USERNAME\"] = data['username']\n",
    "os.environ[\"KAGGLE_KEY\"] = data['key']\n"
   ]
  },
  {
   "cell_type": "code",
   "execution_count": 5,
   "id": "b1cdf6d6-86e0-4777-8442-f2846071d0eb",
   "metadata": {},
   "outputs": [
    {
     "ename": "ImportError",
     "evalue": "cannot import name 'kaggleApi' from 'kaggle.api.kaggle_api_extended' (d:\\MERN_Course\\TestProject\\sentiment-analysis-project\\env\\Lib\\site-packages\\kaggle\\api\\kaggle_api_extended.py)",
     "output_type": "error",
     "traceback": [
      "\u001b[31m---------------------------------------------------------------------------\u001b[39m",
      "\u001b[31mImportError\u001b[39m                               Traceback (most recent call last)",
      "\u001b[36mCell\u001b[39m\u001b[36m \u001b[39m\u001b[32mIn[5]\u001b[39m\u001b[32m, line 1\u001b[39m\n\u001b[32m----> \u001b[39m\u001b[32m1\u001b[39m \u001b[38;5;28;01mfrom\u001b[39;00m\u001b[38;5;250m \u001b[39m\u001b[34;01mkaggle\u001b[39;00m\u001b[34;01m.\u001b[39;00m\u001b[34;01mapi\u001b[39;00m\u001b[34;01m.\u001b[39;00m\u001b[34;01mkaggle_api_extended\u001b[39;00m\u001b[38;5;250m \u001b[39m\u001b[38;5;28;01mimport\u001b[39;00m kaggleApi\n\u001b[32m      2\u001b[39m api = kaggleApi()\n\u001b[32m      3\u001b[39m api.authenticate()\n",
      "\u001b[31mImportError\u001b[39m: cannot import name 'kaggleApi' from 'kaggle.api.kaggle_api_extended' (d:\\MERN_Course\\TestProject\\sentiment-analysis-project\\env\\Lib\\site-packages\\kaggle\\api\\kaggle_api_extended.py)"
     ]
    }
   ],
   "source": [
    "from kaggle.api.kaggle_api_extended import kaggleApi\n",
    "api = kaggleApi()\n",
    "api.authenticate()"
   ]
  },
  {
   "cell_type": "code",
   "execution_count": 6,
   "id": "948b059c-5b5c-4028-bcab-a8f87acb0d93",
   "metadata": {},
   "outputs": [],
   "source": [
    "from kaggle.api.kaggle_api_extended import KaggleApi\n",
    "\n",
    "api = KaggleApi()\n",
    "api.authenticate()\n",
    "\n"
   ]
  },
  {
   "cell_type": "code",
   "execution_count": 7,
   "id": "92236da4-0408-4a51-8e0b-da97d87e07a6",
   "metadata": {},
   "outputs": [
    {
     "name": "stdout",
     "output_type": "stream",
     "text": [
      "Dataset URL: https://www.kaggle.com/datasets/dineshpiyasamara/sentiment-analysis-dataset\n"
     ]
    }
   ],
   "source": [
    "api.dataset_download_files('dineshpiyasamara/sentiment-analysis-dataset', path = '../artifacts/' )"
   ]
  },
  {
   "cell_type": "code",
   "execution_count": 8,
   "id": "d42335d6-d648-4f88-865c-7120700f8e04",
   "metadata": {},
   "outputs": [],
   "source": [
    "import zipfile\n",
    "with zipfile.ZipFile('../artifacts/sentiment-analysis-dataset.zip', 'r') as zip_ref:\n",
    "    zip_ref.extractall('../artifacts/')"
   ]
  },
  {
   "cell_type": "code",
   "execution_count": null,
   "id": "4d507cac-560c-46ca-97fc-13302e3fb2c0",
   "metadata": {},
   "outputs": [],
   "source": []
  }
 ],
 "metadata": {
  "kernelspec": {
   "display_name": "env",
   "language": "python",
   "name": "python3"
  },
  "language_info": {
   "codemirror_mode": {
    "name": "ipython",
    "version": 3
   },
   "file_extension": ".py",
   "mimetype": "text/x-python",
   "name": "python",
   "nbconvert_exporter": "python",
   "pygments_lexer": "ipython3",
   "version": "3.12.0"
  }
 },
 "nbformat": 4,
 "nbformat_minor": 5
}
